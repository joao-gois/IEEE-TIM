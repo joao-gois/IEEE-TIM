{
 "cells": [
  {
   "cell_type": "markdown",
   "metadata": {},
   "source": [
    "# Packages\n"
   ]
  },
  {
   "cell_type": "code",
   "execution_count": null,
   "metadata": {
    "ExecuteTime": {
     "end_time": "2023-08-03T16:52:12.766882Z",
     "start_time": "2023-08-03T16:52:12.738956Z"
    }
   },
   "outputs": [],
   "source": [
    "import nilmtk\n",
    "import pandas as pd, numpy as np\n",
    "import matplotlib.font_manager\n",
    "import matplotlib.pyplot as plt\n",
    "from time import time\n",
    "nilmtk.Appliance.allow_synonyms=False\n",
    "import scipy.stats \n",
    "from datetime import datetime, timedelta\n",
    "from sklearn.model_selection import TimeSeriesSplit\n",
    "import math\n",
    "from math import pi\n",
    "\n",
    "#load REFIT dataset\n",
    "dataset = nilmtk.DataSet('REFIT.h5')\n"
   ]
  },
  {
   "cell_type": "markdown",
   "metadata": {},
   "source": [
    "# Define functions to compute SNR and ANR"
   ]
  },
  {
   "cell_type": "code",
   "execution_count": null,
   "metadata": {
    "ExecuteTime": {
     "end_time": "2023-08-02T14:53:38.750389Z",
     "start_time": "2023-08-02T14:53:38.743407Z"
    }
   },
   "outputs": [],
   "source": [
    "def SNR (mains, noise):\n",
    "    list_aux1 = [abs(mains[i]) for i in range(0, len(noise))]\n",
    "    list_aux2 = [abs(noise[i]) for i in range(0, len(noise))]\n",
    "    return sum(list_aux1)/sum(list_aux2)\n",
    "\n",
    "#get SNR in decibel scale\n",
    "def SNR_dB (mains, noise):\n",
    "    return 10*math.log10(SNR(mains, noise))\n",
    "\n",
    "def ANR(app, noise):\n",
    "    list_aux = [abs(app[i])/abs(noise[i]) for i in range(0, len(noise)) if app[i] >=0 if abs(noise[i]) > 0.005]\n",
    "    if len(list_aux) == 0:\n",
    "        print(\"ANR not defined\")\n",
    "    else:\n",
    "        return sum(list_aux)/len(list_aux)\n",
    "    "
   ]
  },
  {
   "cell_type": "markdown",
   "metadata": {},
   "source": [
    "# Get noise/SNR/ANR for each house (whole experiment period)"
   ]
  },
  {
   "cell_type": "code",
   "execution_count": null,
   "metadata": {
    "ExecuteTime": {
     "end_time": "2023-08-02T14:53:41.563461Z",
     "start_time": "2023-08-02T14:53:41.558473Z"
    }
   },
   "outputs": [],
   "source": [
    "noise_dict = {}\n"
   ]
  },
  {
   "cell_type": "code",
   "execution_count": null,
   "metadata": {
    "ExecuteTime": {
     "end_time": "2023-08-02T16:25:31.843345Z",
     "start_time": "2023-08-02T16:25:08.393989Z"
    }
   },
   "outputs": [],
   "source": [
    "load, BUILDING, SAMPLE_RATE, d1, d2 = \"computer\", 1, 60, '2014-06-20', '2015-06-20'\n",
    "\n",
    "#get total noise in building aggregate between dates d1 and d2 with a sample rate of 1/60 Hz\n",
    "\n",
    "def get_noise(mains, sample_rate, building, d1, d2):\n",
    "    noise_seq2 = mains[d1:d2].values.flatten().tolist()\n",
    "    for j in range(1, len(dataset.buildings[building].elec.appliances)):\n",
    "        APPJ1 = dataset.buildings[building].elec[j+1]\n",
    "        if APPJ1.appliances[0].type['type'] != 'unknown' or APPJ1.appliances[0].type['type'] != 'appliance':\n",
    "            dataset_aux = next(APPJ1.load(sample_period = sample_rate))['power'][d1:d2].values.flatten().tolist()\n",
    "            if len(noise_seq2) != len(dataset_aux):\n",
    "                print(\"length of mains and appliance sequences differ\")\n",
    "            else:\n",
    "                noise_seq2 = [noise_seq2[i] - dataset_aux[i] for i in range(0, len(noise_seq2))]\n",
    "    return noise_seq2\n",
    "\n",
    "#The REFIT houses ID goes from 1 to 21, except 14. \n",
    "#However, the houses numbered > = 15 must be called by (ID-1) because the houses are ordered without gap in the dataset.\n",
    "\n",
    "Houses =  ['1', '5', '6', '14', '15', '17', '19'] \n",
    "\n",
    "for i in Houses:\n",
    "    dataset_mains = next(dataset.buildings[int(i)].elec[1].load(sample_period = SAMPLE_RATE))['power'][d1:d2]\n",
    "    noise_dict[i] = get_noise(dataset_mains, SAMPLE_RATE, int(i), d1, d2)\n",
    "    \n",
    "# elec[1] refers to the mains or aggregate data\n"
   ]
  },
  {
   "cell_type": "markdown",
   "metadata": {},
   "source": [
    "## Compute noise"
   ]
  },
  {
   "cell_type": "code",
   "execution_count": null,
   "metadata": {
    "ExecuteTime": {
     "end_time": "2023-05-26T11:07:20.853509Z",
     "start_time": "2023-05-26T11:06:02.746435Z"
    }
   },
   "outputs": [],
   "source": [
    "noise_house = {}\n",
    "\n",
    "for i in Houses:\n",
    "    A = get_noise(dataset_mains, SAMPLE_RATE, BUILDING, '2014-06-20', '2015-06-20')\n",
    "    noise_house[i] = A\n",
    "    "
   ]
  },
  {
   "cell_type": "markdown",
   "metadata": {},
   "source": [
    "## Compute SNR "
   ]
  },
  {
   "cell_type": "code",
   "execution_count": null,
   "metadata": {
    "ExecuteTime": {
     "end_time": "2023-05-26T11:14:02.180844Z",
     "start_time": "2023-05-26T11:13:49.923607Z"
    }
   },
   "outputs": [],
   "source": [
    "snr_houses = []\n",
    "\n",
    "for i in Houses:\n",
    "    A = noise_dict[i]\n",
    "    A = [x for x in A if str(x) != 'nan']\n",
    "    B =  next(dataset.buildings[int(i)].elec[1].load(sample_period = SAMPLE_RATE))['power'][d1:d2].values.flatten().tolist()\n",
    "    B = [x for x in B if str(x) != 'nan']\n",
    "    snr_houses.append(SNR_dB(B, A))\n",
    "    "
   ]
  },
  {
   "cell_type": "markdown",
   "metadata": {},
   "source": [
    "## Compute ANR "
   ]
  },
  {
   "cell_type": "code",
   "execution_count": null,
   "metadata": {
    "ExecuteTime": {
     "end_time": "2023-05-26T11:14:40.868337Z",
     "start_time": "2023-05-26T11:14:28.929272Z"
    }
   },
   "outputs": [],
   "source": [
    "anr_houses = []\n",
    "\n",
    "for i in Houses:\n",
    "    A = noise_dict[i]\n",
    "    A = [x for x in A if str(x) != 'nan']\n",
    "    B =  next(dataset.buildings[int(i)].elec[load].load(sample_period = SAMPLE_RATE))['power'][d1:d2].values.flatten().tolist()\n",
    "    B = [x for x in B if str(x) != 'nan']\n",
    "    anr_houses.append(ANR(B, A))\n",
    "    "
   ]
  },
  {
   "cell_type": "markdown",
   "metadata": {},
   "source": [
    "## Plot SNR / ANR for each house"
   ]
  },
  {
   "cell_type": "code",
   "execution_count": null,
   "metadata": {
    "ExecuteTime": {
     "end_time": "2023-05-26T11:15:07.805314Z",
     "start_time": "2023-05-26T11:15:07.508080Z"
    }
   },
   "outputs": [],
   "source": [
    "labels, x, width = Houses, np.arange(7), 0.3\n",
    "\n",
    "plt.rcParams[\"figure.figsize\"] = (15,5)\n",
    "\n",
    "fig, ax = plt.subplots()\n",
    "\n",
    "rects1 = ax.bar(x, snr_houses, width, label='SNR', color = \"tab:brown\")\n",
    "\n",
    "ax.set_ylabel('SNR', fontsize = 16)\n",
    "ax.set_xlabel('House', fontsize = 16)\n",
    "ax.set_title(\"SNR for each house across the REFIT houses for a sample rate of 1/60 Hz\", fontsize = 16)\n",
    "ax.set_xticks(x)\n",
    "ax.set_yticks(np.arange(0, 4.5, 0.5))\n",
    "ax.set_yticklabels([0, 0.5, 1, 1.5, 2, 2.5, 3, 3.5, 4, 4.5, 5] , fontsize = 16)\n",
    "ax.set_xticklabels(labels, fontsize = 16)\n",
    "ax.legend(fontsize = 16)\n",
    "ax.grid(linestyle = '--', linewidth = 1)\n",
    "\n",
    "fig.tight_layout()\n",
    "plt.show()\n"
   ]
  },
  {
   "cell_type": "markdown",
   "metadata": {},
   "source": [
    "# Get noise/SNR/ANR for bi-weekly/monthly periods"
   ]
  },
  {
   "cell_type": "code",
   "execution_count": null,
   "metadata": {
    "ExecuteTime": {
     "end_time": "2023-08-03T11:01:35.301483Z",
     "start_time": "2023-08-03T11:01:32.712429Z"
    }
   },
   "outputs": [],
   "source": [
    "load, BUILDING, SAMPLE_RATE, d1, d2 = \"television\", 1, 60, '2014-06-20', '2015-06-20'\n",
    "\n",
    "dataset_mains = next(dataset.buildings[BUILDING].elec[1].load(sample_period = SAMPLE_RATE))['power']\n",
    "\n",
    "dataset_app = next(dataset.buildings[BUILDING].elec[load].load(sample_period = SAMPLE_RATE))['power'][d1:d2]\n",
    "\n",
    "#get total noise in building aggregate between dates d1 and d2\n",
    "\n",
    "def get_noise2(mains, sample_rate, building, d1, d2):\n",
    "    noise_seq2 = mains[d1:d2].values.flatten().tolist()\n",
    "    for j in range(1, len(dataset.buildings[building].elec.appliances)):\n",
    "        APPJ1 = dataset.buildings[building].elec[j+1]\n",
    "        if APPJ1.appliances[0].type['type'] != 'unknown' or APPJ1.appliances[0].type['type'] != 'appliance':\n",
    "            dataset_aux = next(APPJ1.load(sample_period = sample_rate))['power'][d1:d2].values.flatten().tolist()\n",
    "            if len(noise_seq2) != len(dataset_aux):\n",
    "                print(\"length of mains and appliance sequences differ\")\n",
    "            else:\n",
    "                noise_seq2 = [noise_seq2[i] - dataset_aux[i] for i in range(0, len(noise_seq2))]\n",
    "    return noise_seq2\n",
    "\n",
    "\n",
    "#set the dates\n",
    "\n",
    "set_dates_biweekly = ['2014-06-20', '2014-07-04', '2014-07-18', '2014-08-01', '2014-08-15', '2014-08-29', '2014-09-12', '2014-09-26',\n",
    "            '2014-10-10', '2014-10-24', '2014-11-07', '2014-11-21', '2014-12-05', '2014-12-19', '2015-01-02', '2015-01-16',\n",
    "            '2015-01-30', '2015-02-13', '2015-02-27', '2015-03-13', '2015-03-27', '2015-04-10', '2015-04-24', '2015-05-08', \n",
    "            '2015-05-22', '2015-06-05', '2015-06-20']\n",
    "\n",
    "set_dates_month = ['2014-06-20', '2014-07-20', '2014-08-20', '2014-09-20', '2014-10-20', '2014-11-20', '2014-12-20', '2015-01-20',\n",
    "            '2015-02-20', '2015-03-20', '2015-04-20', '2015-05-20', '2015-06-20']\n",
    "\n",
    "#alter dates set for hourly, bi-weekly and monthly\n"
   ]
  },
  {
   "cell_type": "markdown",
   "metadata": {},
   "source": [
    "## Compute SNR "
   ]
  },
  {
   "cell_type": "code",
   "execution_count": null,
   "metadata": {
    "ExecuteTime": {
     "end_time": "2023-08-02T14:56:19.454509Z",
     "start_time": "2023-08-02T14:54:24.580492Z"
    }
   },
   "outputs": [],
   "source": [
    "snr_biweek = []\n",
    "\n",
    "for i in range(1, len(set_dates_biweekly)):\n",
    "    A = get_noise2(dataset_mains, SAMPLE_RATE, BUILDING, set_dates_biweekly[i-1], set_dates_biweekly[i])\n",
    "    A = [x for x in A if str(x) != 'nan']\n",
    "    B = dataset_mains[set_dates_biweekly[i-1]: set_dates_biweekly[i]].values.flatten()\n",
    "    B = [x for x in B if str(x) != 'nan']\n",
    "    snr_biweek.append(SNR_dB(B, A))\n",
    "    "
   ]
  },
  {
   "cell_type": "code",
   "execution_count": null,
   "metadata": {
    "ExecuteTime": {
     "end_time": "2023-05-31T16:33:49.217548Z",
     "start_time": "2023-05-31T16:31:54.417620Z"
    }
   },
   "outputs": [],
   "source": [
    "snr_month = []\n",
    "\n",
    "for i in range(1, len(set_dates_month)):\n",
    "    A = get_noise2(dataset_mains, SAMPLE_RATE, BUILDING, set_dates_month[i-1], set_dates_month[i])\n",
    "    A = [x for x in A if str(x) != 'nan']\n",
    "    B = dataset_mains[set_dates_month[i-1]: set_dates_month[i]].values.flatten()\n",
    "    B = [x for x in B if str(x) != 'nan']\n",
    "    snr_month.append(SNR_dB(B, A))"
   ]
  },
  {
   "cell_type": "markdown",
   "metadata": {},
   "source": [
    "## Compute ANR"
   ]
  },
  {
   "cell_type": "code",
   "execution_count": null,
   "metadata": {
    "ExecuteTime": {
     "end_time": "2023-05-31T11:05:33.201450Z",
     "start_time": "2023-05-31T11:00:57.023186Z"
    }
   },
   "outputs": [],
   "source": [
    "anr_biweek = []\n",
    "\n",
    "for i in range(1, len(set_dates_biweekly)):\n",
    "    A = get_noise2(dataset_mains, SAMPLE_RATE, BUILDING, set_dates_biweekly[i-1], set_dates_biweekly[i])\n",
    "    A = [x for x in A if str(x) != 'nan']\n",
    "    C = dataset_app[set_dates_biweekly[i-1]: set_dates_biweekly[i]].values.flatten()\n",
    "    C = [x for x in C if str(x) != 'nan']\n",
    "    anr_biweek.append(ANR(C, A))\n",
    "    "
   ]
  },
  {
   "cell_type": "markdown",
   "metadata": {},
   "source": [
    "## Compute noise"
   ]
  },
  {
   "cell_type": "code",
   "execution_count": null,
   "metadata": {
    "ExecuteTime": {
     "end_time": "2023-08-03T11:06:34.693027Z",
     "start_time": "2023-08-03T11:01:58.946478Z"
    }
   },
   "outputs": [],
   "source": [
    "noise_biweek = []\n",
    "\n",
    "for i in range(1, len(set_dates_biweekly)):\n",
    "    A = get_noise2(dataset_mains, SAMPLE_RATE, BUILDING, set_dates_biweekly[i-1], set_dates_biweekly[i])\n",
    "    A = [x for x in A if str(x) != 'nan' if x>0]\n",
    "    noise_biweek.append(A)\n",
    "    "
   ]
  },
  {
   "cell_type": "code",
   "execution_count": null,
   "metadata": {
    "ExecuteTime": {
     "end_time": "2023-08-03T11:08:10.897321Z",
     "start_time": "2023-08-03T11:08:10.876354Z"
    }
   },
   "outputs": [],
   "source": [
    "sum_noise_biweek = [round(sum(noise_biweek[i])) for i in range(0, len(noise_biweek))]\n",
    "np.max(sum_noise_biweek)"
   ]
  },
  {
   "cell_type": "code",
   "execution_count": null,
   "metadata": {
    "ExecuteTime": {
     "end_time": "2023-08-03T10:51:53.208298Z",
     "start_time": "2023-08-03T10:49:45.401866Z"
    }
   },
   "outputs": [],
   "source": [
    "noise_month = []\n",
    "\n",
    "for i in range(1, len(set_dates_month)):\n",
    "    A = get_noise2(dataset_mains, SAMPLE_RATE, BUILDING, set_dates_month[i-1], set_dates_month[i])\n",
    "    A = [x for x in A if str(x) != 'nan' if x>0]\n",
    "    noise_month.append(A)\n",
    "    "
   ]
  },
  {
   "cell_type": "code",
   "execution_count": null,
   "metadata": {
    "ExecuteTime": {
     "end_time": "2023-08-03T10:54:35.364139Z",
     "start_time": "2023-08-03T10:54:35.350149Z"
    }
   },
   "outputs": [],
   "source": [
    "sum_noise_month = [round(sum(noise_month[i])) for i in range(0, len(noise_month))]\n",
    "np.max(sum_noise_month)"
   ]
  },
  {
   "cell_type": "markdown",
   "metadata": {},
   "source": [
    "## Compute appliance consumption"
   ]
  },
  {
   "cell_type": "code",
   "execution_count": null,
   "metadata": {
    "ExecuteTime": {
     "end_time": "2023-08-02T16:17:25.859775Z",
     "start_time": "2023-08-02T16:17:25.648315Z"
    }
   },
   "outputs": [],
   "source": [
    "app_data_biweekly = []\n",
    "\n",
    "for i in range(1, len(set_dates_biweekly)):\n",
    "    dat = dataset_app[set_dates_biweekly[i-1]:set_dates_biweekly[i]].values.flatten().tolist()\n",
    "    dat = [x for x in dat if str(x) != 'nan' if x>=0]\n",
    "    app_data_biweekly.append(dat)\n",
    "    "
   ]
  },
  {
   "cell_type": "code",
   "execution_count": null,
   "metadata": {
    "ExecuteTime": {
     "end_time": "2023-08-02T16:17:27.126365Z",
     "start_time": "2023-08-02T16:17:27.104424Z"
    }
   },
   "outputs": [],
   "source": [
    "sum_app_data_biweekly = [round(sum(app_data_biweekly[i])) for i in range(0, len(app_data_biweekly))]\n",
    "np.max(sum_app_data_biweekly)"
   ]
  },
  {
   "cell_type": "code",
   "execution_count": null,
   "metadata": {
    "ExecuteTime": {
     "end_time": "2023-08-02T17:17:53.704045Z",
     "start_time": "2023-08-02T17:17:53.470647Z"
    }
   },
   "outputs": [],
   "source": [
    "app_data_month = []\n",
    "\n",
    "for i in range(1, len(set_dates_month)):\n",
    "    dat = dataset_app[set_dates_month[i-1]:set_dates_month[i]].values.flatten().tolist()\n",
    "    dat = [x for x in dat if str(x) != 'nan' if x>0]\n",
    "    app_data_month.append(dat)"
   ]
  },
  {
   "cell_type": "code",
   "execution_count": null,
   "metadata": {
    "ExecuteTime": {
     "end_time": "2023-08-02T17:17:56.157161Z",
     "start_time": "2023-08-02T17:17:56.146191Z"
    }
   },
   "outputs": [],
   "source": [
    "sum_app_data_month = [round(sum(app_data_month[i])) for i in range(0, len(app_data_month))]\n",
    "sum_app_data_month"
   ]
  },
  {
   "cell_type": "markdown",
   "metadata": {},
   "source": [
    "# Get noise/SNR/ANR for each hour of the day"
   ]
  },
  {
   "cell_type": "code",
   "execution_count": null,
   "metadata": {
    "ExecuteTime": {
     "end_time": "2023-05-29T13:17:38.904237Z",
     "start_time": "2023-05-29T13:17:36.220415Z"
    }
   },
   "outputs": [],
   "source": [
    "load, BUILDING, SAMPLE_RATE, d1, d2 = \"computer\", 1, 60, '2014-06-20', '2015-06-20'\n",
    "\n",
    "#get total noise in building aggregate\n",
    "\n",
    "def get_noise_hours(mains, sample_rate, building, hour1, hour2):\n",
    "    noise_seq2 = mains.between_time(hour1, hour2).values.flatten().tolist()\n",
    "    appliance_list = [\"dish washer\", \"computer\", \"washing machine\", \"television\"]\n",
    "    for j in range(0, len(appliance_list)):\n",
    "        APPJ1 = dataset.buildings[building].elec[appliance_list[j]]\n",
    "        dataset_aux = next(APPJ1.load(sample_period = sample_rate))['power'][d1:d2].between_time(hour1, hour2).values.flatten().tolist()\n",
    "        if len(noise_seq2) != len(dataset_aux):\n",
    "            print(\"length of mains and selected appliance sequences differ\")\n",
    "        else:\n",
    "            noise_seq2 = [noise_seq2[i] - dataset_aux[i] for i in range(0, len(noise_seq2))]\n",
    "    return noise_seq2\n",
    "\n",
    "dataset_mains = next(dataset.buildings[BUILDING].elec[1].load(sample_period = SAMPLE_RATE))['power'][d1:d2]\n",
    "dataset_app = next(dataset.buildings[BUILDING].elec[load].load(sample_period = SAMPLE_RATE))['power'][d1:d2]\n",
    "\n",
    "set_hours = ['00:00', '01:00', '02:00', '03:00', '04:00', '05:00', '06:00', '07:00', '08:00', '09:00', '10:00', '11:00',\n",
    "            '12:00', '13:00', '14:00', '15:00', '16:00', '17:00', '18:00', '19:00', '20:00', '21:00', '22:00',\n",
    "            '23:00', '00:00']\n"
   ]
  },
  {
   "cell_type": "code",
   "execution_count": null,
   "metadata": {
    "ExecuteTime": {
     "end_time": "2023-08-03T10:31:18.598117Z",
     "start_time": "2023-08-03T10:31:15.975100Z"
    }
   },
   "outputs": [],
   "source": [
    "load, BUILDING, SAMPLE_RATE, d1, d2 = \"television\", 1, 60, '2014-06-20', '2015-06-20'\n",
    "\n",
    "def get_noise_hours2(mains, sample_rate, building, hour1, hour2):\n",
    "    noise_seq2 = mains.between_time(hour1, hour2).values.flatten().tolist()\n",
    "    for j in range(1, len(dataset.buildings[building].elec.appliances)):\n",
    "        APPJ1 = dataset.buildings[building].elec[j+1]\n",
    "        if APPJ1.appliances[0].type['type'] != 'unknown' or APPJ1.appliances[0].type['type'] != 'appliance':\n",
    "            dataset_aux = next(APPJ1.load(sample_period = sample_rate))['power'][d1:d2].between_time(hour1, hour2).values.flatten().tolist()\n",
    "            if len(noise_seq2) != len(dataset_aux):\n",
    "                print(\"length of mains and appliance sequences differ\")\n",
    "            else:\n",
    "                noise_seq2 = [noise_seq2[i] - dataset_aux[i] for i in range(0, len(noise_seq2))]\n",
    "    return noise_seq2\n",
    "\n",
    "dataset_mains = next(dataset.buildings[BUILDING].elec[1].load(sample_period = SAMPLE_RATE))['power'][d1:d2]\n",
    "dataset_app = next(dataset.buildings[BUILDING].elec[load].load(sample_period = SAMPLE_RATE))['power'][d1:d2]\n",
    "\n",
    "set_hours = ['00:00', '01:00', '02:00', '03:00', '04:00', '05:00', '06:00', '07:00', '08:00', '09:00', '10:00', '11:00',\n",
    "            '12:00', '13:00', '14:00', '15:00', '16:00', '17:00', '18:00', '19:00', '20:00', '21:00', '22:00',\n",
    "            '23:00', '00:00']"
   ]
  },
  {
   "cell_type": "markdown",
   "metadata": {},
   "source": [
    "## Compute SNR"
   ]
  },
  {
   "cell_type": "code",
   "execution_count": null,
   "metadata": {
    "ExecuteTime": {
     "end_time": "2023-05-31T15:55:57.043601Z",
     "start_time": "2023-05-31T15:51:36.526464Z"
    }
   },
   "outputs": [],
   "source": [
    "snr_hour = []\n",
    "\n",
    "for i in range(1, len(set_hours)):\n",
    "    A = get_noise_hours2(dataset_mains, SAMPLE_RATE, BUILDING, set_hours[i-1], set_hours[i])\n",
    "    A = [x for x in A if str(x) != 'nan']\n",
    "    B = dataset_mains.between_time(set_hours[i-1], set_hours[i]).values.flatten()\n",
    "    B = [x for x in B if str(x) != 'nan']\n",
    "    snr_hour.append(SNR_dB(B, A))"
   ]
  },
  {
   "cell_type": "markdown",
   "metadata": {},
   "source": [
    "## Compute ANR"
   ]
  },
  {
   "cell_type": "code",
   "execution_count": null,
   "metadata": {
    "ExecuteTime": {
     "end_time": "2023-05-30T13:21:32.419002Z",
     "start_time": "2023-05-30T13:21:22.502526Z"
    }
   },
   "outputs": [],
   "source": [
    "anr_hour = []\n",
    "\n",
    "for i in range(1, len(set_hours)):\n",
    "    A = get_noise_hours2(dataset_mains, SAMPLE_RATE, BUILDING, set_hours[i-1], set_hours[i])\n",
    "    A = [x for x in A if str(x) != 'nan']\n",
    "    C = dataset_app.between_time(set_hours[i-1], set_hours[i]).values.flatten()\n",
    "    C = [x for x in C if str(x) != 'nan']\n",
    "    anr_hour.append(ANR(C, A))\n",
    "    "
   ]
  },
  {
   "cell_type": "markdown",
   "metadata": {},
   "source": [
    "## Compute noise"
   ]
  },
  {
   "cell_type": "code",
   "execution_count": null,
   "metadata": {
    "ExecuteTime": {
     "end_time": "2023-08-03T10:35:59.458371Z",
     "start_time": "2023-08-03T10:31:39.553969Z"
    }
   },
   "outputs": [],
   "source": [
    "noise_hour = []\n",
    "\n",
    "for i in range(1, len(set_hours)):\n",
    "    A = get_noise_hours2(dataset_mains, SAMPLE_RATE, BUILDING, set_hours[i-1], set_hours[i])\n",
    "    A = [x for x in A if str(x) != 'nan'  if x>0]\n",
    "    noise_hour.append(A)\n",
    "    "
   ]
  },
  {
   "cell_type": "code",
   "execution_count": null,
   "metadata": {
    "ExecuteTime": {
     "end_time": "2023-08-03T10:39:58.223444Z",
     "start_time": "2023-08-03T10:39:58.212475Z"
    }
   },
   "outputs": [],
   "source": [
    "sum_noise_hour = [round(sum(noise_hour[i])) for i in range(0, len(noise_hour))]\n",
    "np.max(sum_noise_hour)"
   ]
  },
  {
   "cell_type": "markdown",
   "metadata": {},
   "source": [
    "## Compute appliance consumption"
   ]
  },
  {
   "cell_type": "code",
   "execution_count": null,
   "metadata": {
    "ExecuteTime": {
     "end_time": "2023-08-02T16:50:53.610631Z",
     "start_time": "2023-08-02T16:50:52.819721Z"
    }
   },
   "outputs": [],
   "source": [
    "app_data_hour = []\n",
    "\n",
    "for i in range(1, len(set_hours)):\n",
    "    dat = dataset_app.between_time(set_hours[i-1],set_hours[i]).values.flatten().tolist()\n",
    "    dat = [x for x in dat if str(x) != 'nan' if x>=0]\n",
    "    app_data_hour.append(dat)\n",
    "    "
   ]
  },
  {
   "cell_type": "code",
   "execution_count": null,
   "metadata": {
    "ExecuteTime": {
     "end_time": "2023-08-02T16:50:56.345360Z",
     "start_time": "2023-08-02T16:50:56.337380Z"
    }
   },
   "outputs": [],
   "source": [
    "sum_app_data_hour = [round(sum(app_data_hour[i])) for i in range(0, len(app_data_hour))]\n",
    "np.max(sum_app_data_hour)"
   ]
  },
  {
   "cell_type": "markdown",
   "metadata": {},
   "source": [
    "#############################################################################################################"
   ]
  },
  {
   "cell_type": "markdown",
   "metadata": {},
   "source": [
    "# Plot noise/appliance power distribution hourly/bi-weekly/monthly"
   ]
  },
  {
   "cell_type": "code",
   "execution_count": null,
   "metadata": {
    "ExecuteTime": {
     "end_time": "2023-05-31T17:23:55.601100Z",
     "start_time": "2023-05-31T17:23:55.085479Z"
    },
    "code_folding": []
   },
   "outputs": [],
   "source": [
    "#labels = [\"1\",  \"2\", \"3\", \"4\", \"5\", \"6\", \"7\", \"8\", \"9\", \"10\", \"11\", \"12\", \"13\", \"14\", \"15\", \"16\", \"17\", \"18\", \"19\",\n",
    "#          \"20\", \"21\", \"22\", \"23\", \"24\"]  # ----> hourly\n",
    "\n",
    "#labels = ['1', '2', '3', '4', '5', '6', '7', '8', '9', '10', '11', '12', '13', '14', '15', '16',\n",
    "#'17', '18', '19', '20', '21', '22', '23', '24', '25', '26'] # -----> bi-weekly\n",
    "\n",
    "labels = [\"1\",  \"2\", \"3\", \"4\", \"5\", \"6\", \"7\", \"8\", \"9\", \"10\", \"11\", \"12\"] #---> monthly\n",
    "\n",
    "plt.rcParams[\"figure.figsize\"] = (18, 5)\n",
    "labels, data = labels, app_data_month\n",
    "\n",
    "plt.violinplot(data, showmedians = True)\n",
    "\n",
    "parts = plt.violinplot(\n",
    "        data, showmeans=False, showmedians=True,\n",
    "        showextrema=False)\n",
    "\n",
    "parts['cmedians'].set_color('red')    \n",
    "parts['cmedians'].set_linewidth(5)\n",
    "\n",
    "for p in parts['bodies']:\n",
    "    p.set_facecolor('tab:olive')\n",
    "    p.set_edgecolor('black')\n",
    "    p.set_alpha(1)\n",
    "\n",
    "plt.xticks(range(1, len(labels) + 1), labels, fontsize = 14)\n",
    "plt.yticks(fontsize = 14)\n",
    "plt.grid(linestyle = '--', linewidth = 1)\n",
    "plt.title(\"Distribution of computer power consumption for each month\", fontsize = 16)\n",
    "plt.xlabel(\"Month\", fontsize = 16)\n",
    "plt.ylim(0, 150)\n",
    "plt.ylabel(\"Active Power (W)\", fontsize = 16)\n",
    "plt.show()\n"
   ]
  },
  {
   "cell_type": "markdown",
   "metadata": {},
   "source": [
    "## Plot ANR/SNR for hourly/bi-weekly/monthly periods"
   ]
  },
  {
   "cell_type": "code",
   "execution_count": null,
   "metadata": {
    "ExecuteTime": {
     "end_time": "2023-08-03T11:09:49.785947Z",
     "start_time": "2023-08-03T11:09:49.530660Z"
    },
    "code_folding": []
   },
   "outputs": [],
   "source": [
    "#labels = [\"1\",  \"2\", \"3\", \"4\", \"5\", \"6\", \"7\", \"8\", \"9\", \"10\", \"11\", \"12\", \"13\", \"14\", \"15\", \"16\", \"17\", \"18\", \"19\",\n",
    "#          \"20\", \"21\", \"22\", \"23\", \"24\"]  # ----> hourly\n",
    "\n",
    "labels = ['1', '2', '3', '4', '5', '6', '7', '8', '9', '10', '11', '12', '13', '14', '15', '16',\n",
    "'17', '18', '19', '20', '21', '22', '23', '24', '25', '26'] # -----> bi-weekly\n",
    "\n",
    "#labels = [\"1\",  \"2\", \"3\", \"4\", \"5\", \"6\", \"7\", \"8\", \"9\", \"10\", \"11\", \"12\"] #---> monthly\n",
    "\n",
    "\n",
    "x, width = np.arange(len(labels)), 0.5 \n",
    "\n",
    "plt.rcParams[\"figure.figsize\"] = (15,5)\n",
    "\n",
    "fig, ax = plt.subplots()\n",
    "\n",
    "load = \"television\"\n",
    "\n",
    "rects1 = ax.bar(x, sum_noise_biweek, width, label='Total power', color = \"tab:brown\")\n",
    "\n",
    "ax.set_ylabel('Scores', fontsize = 16)\n",
    "ax.set_xlabel('Biweek', fontsize = 16)\n",
    "#ax.set_title(\"ANR for the \"+str(load)+\" for each hour of the day\", fontsize = 16)\n",
    "#ax.set_title(\"Total consumption for the \"+str(load)+\" for each month\", fontsize = 16)\n",
    "ax.set_title(\"Total noise power for each biweekly period\", fontsize = 16)\n",
    "#ax.set_title(\"SNR for each hour of the day\", fontsize = 16)\n",
    "ax.set_xticks(x)\n",
    "ax.set_yticks(np.arange(0, 18000000, 3000000))\n",
    "ax.set_yticklabels( [0, 3000000, 6000000, 9000000, 12000000, 15000000, 18000000], fontsize = 16)\n",
    "ax.set_xticklabels(labels, fontsize = 16)\n",
    "ax.legend(fontsize = 16)\n",
    "ax.grid(linestyle = '--', linewidth = 1)\n",
    "\n",
    "fig.tight_layout()\n",
    "plt.show()\n"
   ]
  }
 ],
 "metadata": {
  "kernelspec": {
   "display_name": "Python 3 (ipykernel)",
   "language": "python",
   "name": "python3"
  },
  "language_info": {
   "codemirror_mode": {
    "name": "ipython",
    "version": 3
   },
   "file_extension": ".py",
   "mimetype": "text/x-python",
   "name": "python",
   "nbconvert_exporter": "python",
   "pygments_lexer": "ipython3",
   "version": "3.8.16"
  },
  "varInspector": {
   "cols": {
    "lenName": 16,
    "lenType": 16,
    "lenVar": 40
   },
   "kernels_config": {
    "python": {
     "delete_cmd_postfix": "",
     "delete_cmd_prefix": "del ",
     "library": "var_list.py",
     "varRefreshCmd": "print(var_dic_list())"
    },
    "r": {
     "delete_cmd_postfix": ") ",
     "delete_cmd_prefix": "rm(",
     "library": "var_list.r",
     "varRefreshCmd": "cat(var_dic_list()) "
    }
   },
   "types_to_exclude": [
    "module",
    "function",
    "builtin_function_or_method",
    "instance",
    "_Feature"
   ],
   "window_display": false
  }
 },
 "nbformat": 4,
 "nbformat_minor": 4
}
