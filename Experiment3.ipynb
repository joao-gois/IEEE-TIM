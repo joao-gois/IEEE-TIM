{
 "cells": [
  {
   "cell_type": "code",
   "execution_count": 1,
   "id": "f4a4cb62",
   "metadata": {
    "ExecuteTime": {
     "end_time": "2023-02-24T16:58:30.119305Z",
     "start_time": "2023-02-24T16:58:22.336115Z"
    }
   },
   "outputs": [
    {
     "name": "stderr",
     "output_type": "stream",
     "text": [
      "Using TensorFlow backend.\n"
     ]
    }
   ],
   "source": [
    "from algorithms import *\n",
    "import pandas as pd\n",
    "import numpy as np\n",
    "import matplotlib.pyplot as plt\n",
    "from aux_functions import *\n",
    "import statistics\n",
    "from sklearn.metrics import mean_absolute_error\n"
   ]
  },
  {
   "cell_type": "code",
   "execution_count": 2,
   "id": "35a6db98",
   "metadata": {
    "ExecuteTime": {
     "end_time": "2023-02-24T16:58:38.181762Z",
     "start_time": "2023-02-24T16:58:31.057796Z"
    }
   },
   "outputs": [],
   "source": [
    "house = pd.read_csv(\"C:/Users/FEEL/Documents/Datasets/REFIT/Processed_Data_CSV/House_1.csv\")\n",
    "house.index = pd.to_datetime(house[\"Time\"])\n",
    "house.drop(\"Time\", axis = 1, inplace = True)\n",
    "house = house.resample(\"1min\").mean()\n",
    "house.dropna(inplace = True)\n",
    "house = house.loc['2014-06-20':'2015-06-20']\n",
    "\n",
    "xtrain = house.iloc[:int(0.66*house.shape[0])][\"Aggregate\"] \n",
    "xtest = house.iloc[int(0.66*house.shape[0]):][\"Aggregate\"]\n",
    "ytrain = house.iloc[:int(0.66*house.shape[0])][\"Appliance5\"]\n",
    "ytest = house.iloc[int(0.66*house.shape[0]):][\"Appliance5\"]\n"
   ]
  },
  {
   "cell_type": "code",
   "execution_count": 3,
   "id": "0c7bd3ec",
   "metadata": {
    "ExecuteTime": {
     "end_time": "2023-02-24T16:58:55.071937Z",
     "start_time": "2023-02-24T16:58:55.058947Z"
    }
   },
   "outputs": [],
   "source": [
    "#WGRU\n",
    "network = WindowGRU(xtrain, ytrain, window_size=10, model_name=\"exp1_wgru\", \n",
    "                       model_dir = \"\", n_epochs=5, stop_patience=2, \n",
    "                       dropout_rate=0.2, batch_size=128, \n",
    "                       use_callbacks=True)\n"
   ]
  },
  {
   "cell_type": "code",
   "execution_count": null,
   "id": "794a00d9",
   "metadata": {},
   "outputs": [],
   "source": [
    "#AttentionRNN\n",
    "network = AttentionRNN(xtrain, ytrain, window_size=10, model_name=\"exp1_att\", \n",
    "                       model_dir = \"\", n_epochs=5, stop_patience=2, \n",
    "                       dropout_rate=0.2, batch_size=128, \n",
    "                       use_callbacks=True)\n"
   ]
  },
  {
   "cell_type": "code",
   "execution_count": 4,
   "id": "f286003d",
   "metadata": {
    "ExecuteTime": {
     "end_time": "2023-02-24T17:00:21.834538Z",
     "start_time": "2023-02-24T16:59:01.007044Z"
    }
   },
   "outputs": [
    {
     "name": "stdout",
     "output_type": "stream",
     "text": [
      "Epoch 1/5\n",
      "2090/2090 [==============================] - 32s 11ms/step - loss: 15948.1083 - val_loss: 23941.0957\n",
      "Epoch 2/5\n",
      "2090/2090 [==============================] - 22s 11ms/step - loss: 16018.2688 - val_loss: 23941.0957\n",
      "Epoch 3/5\n",
      "2090/2090 [==============================] - 22s 11ms/step - loss: 16378.0669 - val_loss: 23941.0957\n"
     ]
    }
   ],
   "source": [
    "network.fit()\n"
   ]
  },
  {
   "cell_type": "code",
   "execution_count": null,
   "id": "17f5267c",
   "metadata": {},
   "outputs": [],
   "source": [
    "ws, inic, fim = 10, '23:00', '00:00'\n",
    "xtest1 = xtest.between_time(inic, fim)\n",
    "ytest1 = ytest.between_time(inic, fim)\n"
   ]
  },
  {
   "cell_type": "code",
   "execution_count": 346,
   "id": "b4bceb0c",
   "metadata": {
    "ExecuteTime": {
     "end_time": "2023-01-23T17:55:53.502881Z",
     "start_time": "2023-01-23T17:55:52.512530Z"
    }
   },
   "outputs": [],
   "source": [
    "#AttentionRNN\n",
    "results = network.predict(xtest1)\n",
    "results = results.flatten()\n",
    "ytest_star = ytest1[ws:]\n",
    "mean_absolute_error(ytest_star, results)\n"
   ]
  },
  {
   "cell_type": "code",
   "execution_count": null,
   "id": "db83abe6",
   "metadata": {},
   "outputs": [],
   "source": [
    "#WGRU\n",
    "results = network.predict(xtest1)\n",
    "results_star =  [results[i][0][0] for i in range(0,results.shape[0])] \n",
    "ytest_star = ytest1[ws:]\n",
    "mean_absolute_error(ytest_star, results_star)\n"
   ]
  }
 ],
 "metadata": {
  "kernelspec": {
   "display_name": "Python 3 (ipykernel)",
   "language": "python",
   "name": "python3"
  },
  "language_info": {
   "codemirror_mode": {
    "name": "ipython",
    "version": 3
   },
   "file_extension": ".py",
   "mimetype": "text/x-python",
   "name": "python",
   "nbconvert_exporter": "python",
   "pygments_lexer": "ipython3",
   "version": "3.8.16"
  },
  "varInspector": {
   "cols": {
    "lenName": 16,
    "lenType": 16,
    "lenVar": 40
   },
   "kernels_config": {
    "python": {
     "delete_cmd_postfix": "",
     "delete_cmd_prefix": "del ",
     "library": "var_list.py",
     "varRefreshCmd": "print(var_dic_list())"
    },
    "r": {
     "delete_cmd_postfix": ") ",
     "delete_cmd_prefix": "rm(",
     "library": "var_list.r",
     "varRefreshCmd": "cat(var_dic_list()) "
    }
   },
   "types_to_exclude": [
    "module",
    "function",
    "builtin_function_or_method",
    "instance",
    "_Feature"
   ],
   "window_display": false
  }
 },
 "nbformat": 4,
 "nbformat_minor": 5
}
