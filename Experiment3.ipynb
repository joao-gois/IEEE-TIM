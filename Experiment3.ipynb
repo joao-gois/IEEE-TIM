{
 "cells": [
  {
   "cell_type": "code",
   "execution_count": null,
   "id": "d1cd94fa",
   "metadata": {},
   "outputs": [],
   "source": [
    "from rnn_attention import * \n",
    "from window_gru import *\n",
    "from aux_functions import * \n",
    "from __init__ import *\n",
    "import pandas as pd\n",
    "import numpy as np\n",
    "import matplotlib.pyplot as plt\n",
    "from aux_functions import *\n",
    "import statistics\n",
    "from sklearn.metrics import mean_absolute_error"
   ]
  },
  {
   "cell_type": "code",
   "execution_count": null,
   "id": "7f027fa3",
   "metadata": {},
   "outputs": [],
   "source": [
    "house = pd.read_csv(\"C:/Users/FEEL/Documents/Datasets/REFIT/Processed_Data_CSV/House_1.csv\")\n",
    "house.index = pd.to_datetime(house[\"Time\"])\n",
    "house.drop(\"Time\", axis = 1, inplace = True)\n",
    "house = house.resample(\"1min\").mean()\n",
    "house.dropna(inplace = True)\n",
    "house = house.loc['2014-06-20':'2015-06-20']\n",
    "\n",
    "xtrain = house.iloc[:int(0.66*house.shape[0])][\"Aggregate\"] \n",
    "xtest = house.iloc[int(0.66*house.shape[0]):][\"Aggregate\"]\n",
    "ytrain = house.iloc[:int(0.66*house.shape[0])][\"Appliance5\"]\n",
    "ytest = house.iloc[int(0.66*house.shape[0]):][\"Appliance5\"]"
   ]
  },
  {
   "cell_type": "code",
   "execution_count": null,
   "id": "d702c610",
   "metadata": {},
   "outputs": [],
   "source": [
    "#WGRU\n",
    "network = WindowGRU(xtrain, ytrain, window_size=10, model_name=\"exp1_wgru\", \n",
    "                       model_dir = \"\", n_epochs=5, stop_patience=2, \n",
    "                       dropout_rate=0.2, batch_size=128, \n",
    "                       use_callbacks=True)"
   ]
  },
  {
   "cell_type": "code",
   "execution_count": null,
   "id": "2d9cf478",
   "metadata": {},
   "outputs": [],
   "source": [
    "#AttentionRNN\n",
    "network = AttentionRNN(xtrain, ytrain, window_size=10, model_name=\"exp1_att\", \n",
    "                       model_dir = \"\", n_epochs=5, stop_patience=2, \n",
    "                       dropout_rate=0.2, batch_size=128, \n",
    "                       use_callbacks=True)"
   ]
  },
  {
   "cell_type": "code",
   "execution_count": null,
   "id": "e9594c80",
   "metadata": {},
   "outputs": [],
   "source": [
    "network.fit()"
   ]
  },
  {
   "cell_type": "code",
   "execution_count": null,
   "id": "d56871c9",
   "metadata": {},
   "outputs": [],
   "source": [
    "ws, inic, fim = 10, '23:00', '00:00'\n",
    "xtest1 = xtest.between_time(inic, fim)\n",
    "ytest1 = ytest.between_time(inic, fim)"
   ]
  },
  {
   "cell_type": "code",
   "execution_count": null,
   "id": "d3a386d2",
   "metadata": {},
   "outputs": [],
   "source": [
    "#AttentionRNN\n",
    "results = network.predict(xtest1)\n",
    "results = results.flatten()\n",
    "ytest_star = ytest1[ws:]\n",
    "mean_absolute_error(ytest_star, results)"
   ]
  },
  {
   "cell_type": "code",
   "execution_count": null,
   "id": "c7041591",
   "metadata": {},
   "outputs": [],
   "source": [
    "#WGRU\n",
    "results = network.predict(xtest1)\n",
    "results_star =  [results[i][0][0] for i in range(0,results.shape[0])] \n",
    "ytest_star = ytest1[ws:]\n",
    "mean_absolute_error(ytest_star, results_star)"
   ]
  }
 ],
 "metadata": {
  "kernelspec": {
   "display_name": "Python 3",
   "language": "python",
   "name": "python3"
  },
  "language_info": {
   "codemirror_mode": {
    "name": "ipython",
    "version": 3
   },
   "file_extension": ".py",
   "mimetype": "text/x-python",
   "name": "python",
   "nbconvert_exporter": "python",
   "pygments_lexer": "ipython3",
   "version": "3.6.15"
  }
 },
 "nbformat": 4,
 "nbformat_minor": 5
}
