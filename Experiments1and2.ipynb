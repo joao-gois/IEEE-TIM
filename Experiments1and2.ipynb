{
 "cells": [
  {
   "cell_type": "markdown",
   "metadata": {},
   "source": [
    "# Packages\n"
   ]
  },
  {
   "cell_type": "code",
   "execution_count": null,
   "metadata": {},
   "outputs": [],
   "source": [
    "import nilmtk\n",
    "import pandas as pd\n",
    "import numpy as np\n",
    "import matplotlib.font_manager\n",
    "import matplotlib.pyplot as plt\n",
    "from time import time\n",
    "import nilmtk\n",
    "nilmtk.Appliance.allow_synonyms=False\n",
    "import scipy.stats \n",
    "from datetime import datetime, timedelta\n",
    "from sklearn.model_selection import TimeSeriesSplit\n",
    "import seaborn as sns\n",
    "import math\n",
    "from math import pi\n",
    "import pickle\n",
    "\n",
    "#load REFIT dataset\n",
    "dataset = nilmtk.DataSet('REFIT.h5')"
   ]
  },
  {
   "cell_type": "markdown",
   "metadata": {},
   "source": [
    "# Define functions to compute ANR and SNR"
   ]
  },
  {
   "cell_type": "code",
   "execution_count": null,
   "metadata": {},
   "outputs": [],
   "source": [
    "#get SNR\n",
    "def SNR (mains, noise):\n",
    "    list_aux1 = [abs(mains[i]) for i in range(0, len(noise))]\n",
    "    list_aux2 = [abs(noise[i]) for i in range(0, len(noise))]\n",
    "    return sum(list_aux1)/sum(list_aux2)\n",
    "\n",
    "#get SNR in decibel scale\n",
    "def SNR_dB (mains, noise):\n",
    "    return 10*math.log10(SNR(mains, noise))\n",
    "\n",
    "#get ANR\n",
    "def MANR(app, noise):\n",
    "    list_aux = [abs(app[i])/abs(noise[i]) for i in range(0, len(noise)) if app[i] >=0 if abs(noise[i]) > 0.005]\n",
    "    if len(list_aux) == 0:\n",
    "        print(\"MANR not defined\")\n",
    "    else:\n",
    "        return sum(list_aux)/len(list_aux)"
   ]
  },
  {
   "cell_type": "markdown",
   "metadata": {},
   "source": [
    "# Get noise for the whole experiment period"
   ]
  },
  {
   "cell_type": "code",
   "execution_count": null,
   "metadata": {},
   "outputs": [],
   "source": [
    "noise_dict = {}"
   ]
  },
  {
   "cell_type": "code",
   "execution_count": null,
   "metadata": {},
   "outputs": [],
   "source": [
    "load, BUILDING, SAMPLE_RATE, d1, d2 = \"computer\", 1, 60, '2014-06-20', '2015-06-20'\n",
    "\n",
    "#get total noise in building aggregate between dates d1 and d2\n",
    "def get_noise(mains, sample_rate, building, d1, d2):\n",
    "    noise_seq2 = mains[d1:d2].values.flatten().tolist()\n",
    "    for j in range(1, len(dataset.buildings[building].elec.appliances)):\n",
    "        APPJ1 = dataset.buildings[building].elec[j+1]\n",
    "        if APPJ1.appliances[0].type['type'] != 'unknown' or APPJ1.appliances[0].type['type'] != 'appliance':\n",
    "            dataset_aux = next(APPJ1.load(sample_period = sample_rate))['power'][d1:d2].values.flatten().tolist()\n",
    "            if len(noise_seq2) != len(dataset_aux):\n",
    "                print(\"length of mains and appliance sequences differ\")\n",
    "            else:\n",
    "                noise_seq2 = [noise_seq2[i] - dataset_aux[i] for i in range(0, len(noise_seq2))]\n",
    "    return noise_seq2\n",
    "\n",
    "#for houses 15, 16, 18 and 20 the id has to be subtracted in 1 unit because although there is no house 14 in REFIT dataset, \n",
    "#there is no gap at house 14, which is replaced by the data from house 15, and so on.\n",
    "Houses =  ['1', '5', '6', '14', '15', '17', '19'] \n",
    "\n",
    "for i in Houses:\n",
    "    dataset_mains = next(dataset.buildings[int(i)].elec[1].load(sample_period = SAMPLE_RATE))['power'][d1:d2]\n",
    "    noise_dict[i] = get_noise(dataset_mains, SAMPLE_RATE, int(i), d1, d2)"
   ]
  },
  {
   "cell_type": "markdown",
   "metadata": {},
   "source": [
    "# Plot noise "
   ]
  },
  {
   "cell_type": "code",
   "execution_count": null,
   "metadata": {},
   "outputs": [],
   "source": [
    "plt.rcParams[\"figure.figsize\"] = (10, 5)\n",
    "sns.set_style('whitegrid')\n",
    "sns.kdeplot(noise_dict['1'], bw=0.5, label = \"H1\")\n",
    "sns.kdeplot(noise_dict['5'], bw=0.5, label = \"H5\")\n",
    "sns.kdeplot(noise_dict['6'], bw=0.5, label = \"H6\")\n",
    "sns.kdeplot(noise_dict['14'], bw=0.5, label = \"H15\")\n",
    "sns.kdeplot(noise_dict['15'], bw=0.5, label = \"H16\")\n",
    "sns.kdeplot(noise_dict['17'], bw=0.5, label = \"H18\")\n",
    "sns.kdeplot(noise_dict['19'], bw=0.5, label = \"H20\")\n",
    "\n",
    "plt.xlim(right=500, left=0)\n",
    "\n",
    "plt.grid(linestyle = '--', linewidth = 1)\n",
    "plt.title(\"Density estimation of noise power at 1/60 Hz \", fontsize = 16)\n",
    "plt.xlabel(\"Active Power (W)\", fontsize = 16)\n",
    "plt.ylabel(\"Density\", fontsize = 16)\n",
    "plt.xticks(fontsize = 14)\n",
    "plt.yticks(fontsize = 14)\n",
    "plt.legend(fontsize = 12)\n",
    "plt.show()"
   ]
  },
  {
   "cell_type": "markdown",
   "metadata": {},
   "source": [
    "# Plot appliance consumption"
   ]
  },
  {
   "cell_type": "code",
   "execution_count": null,
   "metadata": {},
   "outputs": [],
   "source": [
    "load, Houses = \"computer\", ['1', '5', '6', '14', '15', '17', '19']\n",
    "\n",
    "app_dict = {}\n",
    "for i in Houses:\n",
    "    app_dict[i] = next(dataset.buildings[int(i)].elec[load].load(sample_period = 60)).values.flatten()"
   ]
  },
  {
   "cell_type": "code",
   "execution_count": null,
   "metadata": {},
   "outputs": [],
   "source": [
    "plt.rcParams[\"figure.figsize\"] = (10, 5)\n",
    "sns.set_style('whitegrid')\n",
    "sns.kdeplot(app_dict['1'], bw=0.5, label = \"H1\")\n",
    "sns.kdeplot(app_dict['5'], bw=0.5, label = \"H5\")\n",
    "sns.kdeplot(app_dict['6'], bw=0.5, label = \"H6\")\n",
    "sns.kdeplot(app_dict['14'], bw=0.5, label = \"H15\")\n",
    "sns.kdeplot(app_dict['15'], bw=0.5, label = \"H16\")\n",
    "sns.kdeplot(app_dict['17'], bw=0.5, label = \"H18\")\n",
    "sns.kdeplot(app_dict['19'], bw=0.5, label = \"H20\")\n",
    "\n",
    "plt.xlim(right=500, left=0)\n",
    "\n",
    "plt.grid(linestyle = '--', linewidth = 1)\n",
    "plt.title(\"Density estimation of \"+str(load)+\" power consumption at 1/60 Hz when turned ON\", fontsize = 16)\n",
    "plt.xlabel(\"Active Power (W)\", fontsize = 16)\n",
    "plt.ylabel(\"Density\", fontsize = 16)\n",
    "plt.xticks(fontsize = 14)\n",
    "plt.yticks(fontsize = 14)\n",
    "plt.legend(fontsize = 12)\n",
    "plt.show()"
   ]
  },
  {
   "cell_type": "markdown",
   "metadata": {},
   "source": [
    "# Get ANR, SNR and noise for bi-weekly and monthly periods"
   ]
  },
  {
   "cell_type": "code",
   "execution_count": null,
   "metadata": {},
   "outputs": [],
   "source": [
    "load, BUILDING, SAMPLE_RATE = \"computer\", 1, 60\n",
    "# elec[1] refers to the mains\n",
    "dataset_mains = next(dataset.buildings[BUILDING].elec[1].load(sample_period = SAMPLE_RATE))['power']\n",
    "\n",
    "#get total noise in building aggregate between dates d1 and d2\n",
    "def get_noise2(mains, sample_rate, building, d1, d2):\n",
    "    noise_seq2 = mains[d1:d2].values.flatten().tolist()\n",
    "    for j in range(1, len(dataset.buildings[building].elec.appliances)):\n",
    "        APPJ1 = dataset.buildings[building].elec[j+1]\n",
    "        if APPJ1.appliances[0].type['type'] != 'unknown' or APPJ1.appliances[0].type['type'] != 'appliance':\n",
    "            dataset_aux = next(APPJ1.load(sample_period = sample_rate))['power'][d1:d2].values.flatten().tolist()\n",
    "            if len(noise_seq2) != len(dataset_aux):\n",
    "                print(\"length of mains and appliance sequences differ\")\n",
    "            else:\n",
    "                noise_seq2 = [noise_seq2[i] - dataset_aux[i] for i in range(0, len(noise_seq2))]\n",
    "    return noise_seq2\n",
    "\n",
    "\n",
    "#set the dates\n",
    "set_dates_biweekly = ['2014-06-20', '2014-07-04', '2014-07-18', '2014-08-01', '2014-08-15', '2014-08-29', '2014-09-12', '2014-09-26',\n",
    "            '2014-10-10', '2014-10-24', '2014-11-07', '2014-11-21', '2014-12-05', '2014-12-19', '2015-01-02', '2015-01-16',\n",
    "            '2015-01-30', '2015-02-13', '2015-02-27', '2015-03-13', '2015-03-27', '2015-04-10', '2015-04-24', '2015-05-08', \n",
    "            '2015-05-22', '2015-06-05', '2015-06-20']\n",
    "\n",
    "#set_dates_month = ['2014-06-20', '2014-07-20', '2014-08-20', '2014-09-20', '2014-10-20', '2014-11-20', '2014-12-20', '2015-01-20',\n",
    "#            '2015-02-20', '2015-03-20', '2015-04-20', '2015-05-20', '2015-06-20']\n",
    "\n",
    "#alter dates set for hourly, bi-weekly and monthly"
   ]
  },
  {
   "cell_type": "code",
   "execution_count": null,
   "metadata": {},
   "outputs": [],
   "source": [
    "#get SNR\n",
    "snr_week = []\n",
    "for i in range(1, len(set_dates_biweekly)):\n",
    "    A = get_noise2(dataset_mains, SAMPLE_RATE, BUILDING, set_hours[i-1], set_hours[i])\n",
    "    B = dataset_mains.between_time(set_hours[i-1], set_hours[i]).values.flatten()\n",
    "    snr_week.append(SNR_dB(B, A))"
   ]
  },
  {
   "cell_type": "code",
   "execution_count": null,
   "metadata": {},
   "outputs": [],
   "source": [
    "#get ANR\n",
    "anr_week = []\n",
    "for i in range(1, len(set_dates_biweekly)):\n",
    "    A = get_noise2(dataset_mains, SAMPLE_RATE, BUILDING, set_hours[i-1], set_hours[i])\n",
    "    C = dataset_app.between_time(set_hours[i-1], set_hours[i]).values.flatten()\n",
    "    anr_week.append(MANR(C, A))"
   ]
  },
  {
   "cell_type": "code",
   "execution_count": null,
   "metadata": {},
   "outputs": [],
   "source": [
    "#get noise in the aggregate date\n",
    "noise_week = {}\n",
    "for i in range(1, len(set_hours)):\n",
    "    A = get_noise2(dataset_mains, SAMPLE_RATE, BUILDING, set_hours[i-1], set_hours[i])\n",
    "    noise_week.append(sum(A))"
   ]
  },
  {
   "cell_type": "markdown",
   "metadata": {},
   "source": [
    "# Get ANR, SNR and noise for each hour of the day"
   ]
  },
  {
   "cell_type": "code",
   "execution_count": null,
   "metadata": {},
   "outputs": [],
   "source": [
    "BUILDING, SAMPLE_RATE = 1, 60\n",
    "d1, d2 = '2014-06-20', '2015-06-20'\n",
    "\n",
    "#get total noise in building aggregate\n",
    "def get_noise_hours(mains, sample_rate, building, hour1, hour2):\n",
    "    noise_seq2 = mains.between_time(hour1, hour2).values.flatten().tolist()\n",
    "    appliance_list = [\"dish washer\", \"computer\", \"washing machine\", \"television\"]\n",
    "    for j in range(0, len(appliance_list)):\n",
    "        APPJ1 = dataset.buildings[building].elec[appliance_list[j]]\n",
    "        dataset_aux = next(APPJ1.load(sample_period = sample_rate))['power'][d1:d2].between_time(hour1, hour2).values.flatten().tolist()\n",
    "        if len(noise_seq2) != len(dataset_aux):\n",
    "            print(\"length of mains and selected appliance sequences differ\")\n",
    "        else:\n",
    "            noise_seq2 = [noise_seq2[i] - dataset_aux[i] for i in range(0, len(noise_seq2))]\n",
    "    return noise_seq2\n",
    "\n",
    "dataset_mains = next(dataset.buildings[BUILDING].elec[1].load(sample_period = SAMPLE_RATE))['power'][d1:d2]\n",
    "dataset_app = next(dataset.buildings[BUILDING].elec[\"computer\"].load(sample_period = SAMPLE_RATE))['power'][d1:d2]\n",
    "\n",
    "set_hours = ['00:00', '01:00', '02:00', '03:00', '04:00', '05:00', '06:00', '07:00', '08:00', '09:00', '10:00', '11:00',\n",
    "            '12:00', '13:00', '14:00', '15:00', '16:00', '17:00', '18:00', '19:00', '20:00', '21:00', '22:00',\n",
    "             '23:00', '00:00']"
   ]
  },
  {
   "cell_type": "code",
   "execution_count": null,
   "metadata": {},
   "outputs": [],
   "source": [
    "#get SNR\n",
    "snr_hour = []\n",
    "for i in range(1, len(set_hours)):\n",
    "    A = get_noise_hours(dataset_mains, SAMPLE_RATE, BUILDING, set_hours[i-1], set_hours[i])\n",
    "    B = dataset_mains.between_time(set_hours[i-1], set_hours[i]).values.flatten()\n",
    "    snr_hour.append(SNR_dB(B, A))"
   ]
  },
  {
   "cell_type": "code",
   "execution_count": null,
   "metadata": {},
   "outputs": [],
   "source": [
    "#get ANR\n",
    "anr_hour = []\n",
    "for i in range(1, len(set_hours)):\n",
    "    A = get_noise_hours(dataset_mains, SAMPLE_RATE, BUILDING, set_hours[i-1], set_hours[i])\n",
    "    C = dataset_app.between_time(set_hours[i-1], set_hours[i]).values.flatten()\n",
    "    anr_hour.append(MANR(C, A))"
   ]
  },
  {
   "cell_type": "code",
   "execution_count": null,
   "metadata": {},
   "outputs": [],
   "source": [
    "#get noise in the aggregate date\n",
    "noise_hour = []\n",
    "for i in range(1, len(set_hours)):\n",
    "    A = get_noise_hours(dataset_mains, SAMPLE_RATE, BUILDING, set_hours[i-1], set_hours[i])\n",
    "    noise_hour.append(sum(A))"
   ]
  },
  {
   "cell_type": "markdown",
   "metadata": {},
   "source": [
    "# Plot noise, ANR and SNR"
   ]
  },
  {
   "cell_type": "code",
   "execution_count": null,
   "metadata": {},
   "outputs": [],
   "source": [
    "#plot the noise hourly, bi-weekly and monthly\n",
    "\n",
    "plt.rcParams[\"figure.figsize\"] = (18, 5)\n",
    "labels, data = noise_hour.keys(), noise_hour.values()\n",
    "plt.violinplot(data, showmedians = True)\n",
    "\n",
    "parts = plt.violinplot(\n",
    "        data, showmeans=False, showmedians=True,\n",
    "        showextrema=False)\n",
    "\n",
    "for pc in parts['bodies']:\n",
    "    pc.set_facecolor('tab:green')\n",
    "    pc.set_edgecolor('black')\n",
    "    pc.set_alpha(1)\n",
    "\n",
    "plt.xticks(range(1, len(labels) + 1), labels, fontsize = 14)\n",
    "plt.yticks(fontsize = 14)\n",
    "plt.grid(linestyle = '--', linewidth = 1)\n",
    "plt.title(\"Distribution of noise power for each hour\", fontsize = 16)\n",
    "plt.xlabel(\"Hour\", fontsize = 16)\n",
    "plt.ylabel(\"Active Power (W)\", fontsize = 16)\n",
    "plt.show()"
   ]
  },
  {
   "cell_type": "code",
   "execution_count": null,
   "metadata": {},
   "outputs": [],
   "source": [
    "#plot the ANR for each appliance for each hour of the day \n",
    "\n",
    "labels = [\"1\",  \"2\", \"3\", \"4\", \"5\", \"6\", \"7\", \"8\", \"9\", \"10\", \"11\", \"12\", \"13\", \"14\", \"15\", \"16\", \"17\", \"18\", \"19\",\n",
    "          \"20\", \"21\", \"22\", \"23\", \"24\"]\n",
    "\n",
    "x = np.arange(24) \n",
    "width = 0.5\n",
    "\n",
    "plt.rcParams[\"figure.figsize\"] = (15,5)\n",
    "\n",
    "fig, ax = plt.subplots()\n",
    "rects1 = ax.bar(x, anr_hour, width, label='ANR_pc', color = \"tab:olive\")\n",
    "\n",
    "ax.set_ylabel('Scores', fontsize = 16)\n",
    "ax.set_xlabel('Hour', fontsize = 16)\n",
    "ax.set_title(\"ANR for the \"+str(load)+\" for each hour of the day\", fontsize = 16)\n",
    "ax.set_xticks(x)\n",
    "ax.set_yticks(np.arange(0, 0.15, 0.05))\n",
    "ax.set_yticklabels( [0, 0.05, 0.1, 0.15], fontsize = 16)\n",
    "ax.set_xticklabels(labels, fontsize = 16)\n",
    "ax.legend(fontsize = 16)\n",
    "\n",
    "ax.grid(linestyle = '--', linewidth = 1)\n",
    "fig.tight_layout()\n",
    "plt.show()"
   ]
  },
  {
   "cell_type": "code",
   "execution_count": null,
   "metadata": {},
   "outputs": [],
   "source": [
    "#plot SNR for each appliance for biweekly period\n",
    "\n",
    "labels = [\"1\",  \"2\", \"3\", \"4\", \"5\", \"6\", \"7\", \"8\", \"9\", \"10\", \"11\", \"12\", \"13\", \"14\", \"15\", \"16\", \"17\", \"18\", \"19\", \"20\", \"21\", \"22\", \n",
    "         \"23\", \"24\", \"25\", \"26\"]\n",
    "\n",
    "x = np.arange(26) \n",
    "width = 0.5\n",
    "\n",
    "plt.rcParams[\"figure.figsize\"] = (15,5)\n",
    "\n",
    "fig, ax = plt.subplots()\n",
    "rects1 = ax.bar(x, noise_hours, width, label='SNR', color = \"tab:brown\")\n",
    "\n",
    "ax.set_ylabel('Scores', fontsize = 16)\n",
    "ax.set_xlabel('Week', fontsize = 16)\n",
    "ax.set_title(\"SNR for each week\", fontsize = 16)\n",
    "ax.set_xticks(x)\n",
    "ax.set_yticks(np.arange(0, 2.5, 0.5))\n",
    "ax.set_yticklabels([0, 0.5, 1, 1.5, 2, 2.5] , fontsize = 16)\n",
    "ax.set_xticklabels(labels, fontsize = 16)\n",
    "ax.legend(fontsize = 16)\n",
    "\n",
    "ax.grid(linestyle = '--', linewidth = 1)\n",
    "fig.tight_layout()\n",
    "plt.show()"
   ]
  },
  {
   "cell_type": "code",
   "execution_count": null,
   "metadata": {},
   "outputs": [],
   "source": [
    "#plot SNR for each appliance for each month\n",
    "\n",
    "labels = [\"1\",  \"2\", \"3\", \"4\", \"5\", \"6\", \"7\", \"8\", \"9\", \"10\", \"11\", \"12\"]\n",
    "\n",
    "x = np.arange(12) \n",
    "width = 0.5\n",
    "\n",
    "plt.rcParams[\"figure.figsize\"] = (15,5)\n",
    "\n",
    "fig, ax = plt.subplots()\n",
    "rects1 = ax.bar(x, noise_hours, width, label='SNR', color = \"tab:brown\")\n",
    "\n",
    "ax.set_ylabel('Scores', fontsize = 16)\n",
    "ax.set_xlabel('Month', fontsize = 16)\n",
    "ax.set_title(\"SNR for each month\", fontsize = 16)\n",
    "ax.set_xticks(x)\n",
    "ax.set_yticks(np.arange(0, 3, 0.5))\n",
    "ax.set_yticklabels([0, 0.5, 1, 1.5, 2, 2.5, 3] , fontsize = 16)\n",
    "ax.set_xticklabels(labels, fontsize = 16)\n",
    "ax.legend(fontsize = 16)\n",
    "\n",
    "ax.grid(linestyle = '--', linewidth = 1)\n",
    "fig.tight_layout()\n",
    "plt.show()"
   ]
  }
 ],
 "metadata": {
  "kernelspec": {
   "display_name": "Python 3",
   "language": "python",
   "name": "python3"
  },
  "language_info": {
   "codemirror_mode": {
    "name": "ipython",
    "version": 3
   },
   "file_extension": ".py",
   "mimetype": "text/x-python",
   "name": "python",
   "nbconvert_exporter": "python",
   "pygments_lexer": "ipython3",
   "version": "3.6.15"
  }
 },
 "nbformat": 4,
 "nbformat_minor": 4
}
